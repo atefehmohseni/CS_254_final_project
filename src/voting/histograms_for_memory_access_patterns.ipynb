{
 "cells": [
  {
   "cell_type": "code",
   "execution_count": 4,
   "metadata": {},
   "outputs": [],
   "source": [
    "import weighted_pearson\n",
    "import numpy as np\n",
    "import matplotlib.pyplot as plt"
   ]
  },
  {
   "cell_type": "code",
   "execution_count": 5,
   "metadata": {},
   "outputs": [],
   "source": [
    "# 1. cache sizes, k*2^n, 3 schemes:\n",
    "# # a. 4 caches -> 3, 2, 2, 1\n",
    "# # b. 64 caches -> \n",
    "# # c. 256 caches ->  \n",
    "\n",
    "# 2. strided v. non-strided\n",
    "# # a. sequential\n",
    "# # b. random\n",
    "# # c. mixture\n",
    "# # # i. draw from set of 2^16\n",
    "# # # ii. flip coin to decide strided or not\n",
    "# # # iii. flip coin to decide length of window\n",
    "# # # iv. randomly draw from set to get starting address\n",
    "# # # v. either generate sequence to end of window or keep drawing randomly\n",
    "# # # vi. remove all members from set\n",
    "\n",
    "# 3. address space: 2^16 \n"
   ]
  },
  {
   "cell_type": "code",
   "execution_count": 6,
   "metadata": {},
   "outputs": [],
   "source": []
  },
  {
   "cell_type": "code",
   "execution_count": null,
   "metadata": {},
   "outputs": [],
   "source": [
    "def weighted_voting(mem_addr, cache_array, modifier=\"modulo\"):    \n",
    "    \n",
    "    # pearson hash and mod by # of tiles to get a distinguished tile\n",
    "    distinguished_tile = hash8(str(hex(mem_addr)), cache_table) % len(caches)\n",
    "\n",
    "    # use a numeric property of the memory addr to add as a modifier bonus \n",
    "    if modifier == \"modulo\":\n",
    "        modifier_bonus = mem_addr % len(cache_array) # addr mod cache sizes\n",
    "    elif modifier == \"popcount\":\n",
    "        modifier_bonus = bin(mem_addr).count(\"1\")    # sum of positive bits\n",
    "    else:\n",
    "        modifier_bonus = np.median(caches)           # median of cache sizes\n",
    "\n",
    "    voters[distinguished_tile] += modifier_bonus\n",
    "\n",
    "    # majority sum decides the memory address's home tile\n",
    "    home_tile = np.argmax(voters)\n",
    "\n",
    "    return home_tile"
   ]
  }
 ],
 "metadata": {
  "kernelspec": {
   "display_name": "Python 3",
   "language": "python",
   "name": "python3"
  },
  "language_info": {
   "codemirror_mode": {
    "name": "ipython",
    "version": 3
   },
   "file_extension": ".py",
   "mimetype": "text/x-python",
   "name": "python",
   "nbconvert_exporter": "python",
   "pygments_lexer": "ipython3",
   "version": "3.9.2"
  }
 },
 "nbformat": 4,
 "nbformat_minor": 4
}
